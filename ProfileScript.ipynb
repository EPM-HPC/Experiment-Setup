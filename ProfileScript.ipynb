{
 "cells": [
  {
   "cell_type": "markdown",
   "metadata": {},
   "source": [
    "# Experiment Setup \n",
    "\n",
    "## Goal:\n",
    "    1. Modify source code if needed\n",
    "    2. Compile all benchmarks\n",
    "    3. Profile all benchmarks\n",
    "    4. Process all the performance counters\n",
    "    5. visualization of the benchmarks' characteristics"
   ]
  },
  {
   "cell_type": "code",
   "execution_count": 1,
   "metadata": {},
   "outputs": [],
   "source": [
    "#!/usr/bin/python3\n",
    "import sys\n",
    "import subprocess\n",
    "import os\n",
    "import time\n",
    "import re"
   ]
  },
  {
   "cell_type": "markdown",
   "metadata": {},
   "source": [
    "## Entering A Directory\n",
    "\n",
    "This class finishes the job by implementating the 'cd' command in shell."
   ]
  },
  {
   "cell_type": "code",
   "execution_count": 2,
   "metadata": {},
   "outputs": [],
   "source": [
    "# enter dir\n",
    "class cd:\n",
    "    \"\"\"Context manager for changing the current working directory\"\"\"\n",
    "    def __init__(self, newPath):\n",
    "        self.newPath = os.path.expanduser(newPath)\n",
    "\n",
    "    def __enter__(self):\n",
    "        self.savedPath = os.getcwd()\n",
    "        os.chdir(self.newPath)\n",
    "\n",
    "    def __exit__(self, etype, value, traceback):\n",
    "        os.chdir(self.savedPath)\n"
   ]
  },
  {
   "cell_type": "markdown",
   "metadata": {},
   "source": [
    "## Kernel Rewrite\n",
    "\n",
    "This function aims to modify the source code of kernel launch, run the kernel `NUM_ITER` times for an average kernel running time data."
   ]
  },
  {
   "cell_type": "code",
   "execution_count": 3,
   "metadata": {},
   "outputs": [],
   "source": [
    "def copy_cuda_kernels():\n",
    "    # the first job should copy the kernel for multipule times using wrapper_kernel_begin/end\n",
    "    current_files = subprocess.check_output(['ls']).decode('utf-8').split('\\n')\n",
    "    \n",
    "    changed_file = False\n",
    "    generate_new_file = False\n",
    "\n",
    "    for file in current_files:\n",
    "        ori_file_name = file\n",
    "    \n",
    "        #check all *c,*.cpp,*.cu\n",
    "        # replace the kernel invoke kernel<<<...>>>\n",
    "        if re.search( r'(.*\\.cu)|(.*\\.c)|(.*\\.cpp)', file):\n",
    "             #print(file)    \n",
    "            # rw\n",
    "            # store the file\n",
    "            nlines = []\n",
    "            with open(file,\"r\") as srcs:\n",
    "                lines = srcs.readlines()\n",
    "                for line in lines:\n",
    "                    \n",
    "                    if re.search(r\"#include <kernel_copy.h>\",line):\n",
    "                        changed_file=True\n",
    "                    \n",
    "                    # tnis file haven't been modified yet\n",
    "                    if changed_file==False:\n",
    "                        #print(line)\n",
    "                        if re.search( r'<<<', line):\n",
    "                            # fine this kernel invoke\n",
    "                            #print(line)\n",
    "                            #line = line.strip('\\n')\n",
    "                            \n",
    "                            # run the kernel multipul times\n",
    "                            # defined in /usr/include/kernel_copy.h\n",
    "                            # in case the makefile stay the same\n",
    "                            include   ='    #include <kernel_copy.h>   \\n'\n",
    "                            wrap_begin='    wrapper_kernel_begin    \\n'\n",
    "                            wrap_end  ='    wrapper_kernel_end    \\n'\n",
    "                            newline   =include+wrap_begin+line+wrap_end+'\\n'\n",
    "                            #print(newline)\n",
    "                            nlines.append(newline)\n",
    "                        else:\n",
    "                            nlines.append(line)\n",
    "                        # the original file will be shadow    \n",
    "                        new_file_name=ori_file_name.replace(\".c\",\".bp\")\n",
    "                        generate_new_filer=True\n",
    "                        \n",
    "            # only when generating new file            \n",
    "            if generate_new_file==True:\n",
    "                os.rename(ori_file_name,new_file_name)\n",
    "                with open(ori_file_name,\"w\") as newf:\n",
    "                    newf.writelines(nlines)"
   ]
  },
  {
   "cell_type": "markdown",
   "metadata": {},
   "source": [
    "## High Level APIs\n",
    "\n",
    "Used for description of various jobs need to be done"
   ]
  },
  {
   "cell_type": "code",
   "execution_count": 3,
   "metadata": {},
   "outputs": [],
   "source": [
    "def modifySource():\n",
    "    copy_cuda_kernels()\n",
    "\n",
    "    \n",
    "def do_shell_command(cmd):\n",
    "    command=(str(cmd))\n",
    "    print (command)\n",
    "    subprocess.call(command, shell=True)\n",
    "    "
   ]
  },
  {
   "cell_type": "markdown",
   "metadata": {},
   "source": [
    "## Porfile Kernels Using Nsight-Compute\n",
    "\n",
    "An example of running nsight-compute (must under sudo, in order to have access to GPU performance counters):\n",
    "\n",
    "sudo **/usr/local/NVIDIA-Nsight-Compute/ncu** --export **2DConvolution** --force-overwrite --target-processes application-only --replay-mode kernel --kernel-name-base function --launch-skip-before-match 0 --section ComputeWorkloadAnalysis --section InstructionStats --section LaunchStats --section MemoryWorkloadAnalysis --section MemoryWorkloadAnalysis_Tables --section SpeedOfLight --sampling-interval auto --sampling-max-passes 5 --sampling-buffer-size 33554432 --profile-from-start 1 --cache-control all --clock-control none --apply-rules yes  --import-source yes  --check-exit-code yes  **./2DConvolution.out**\n"
   ]
  },
  {
   "cell_type": "code",
   "execution_count": 4,
   "metadata": {},
   "outputs": [],
   "source": [
    "\"# where to store profile data\n",
    "PROF = \"\"\n",
    "\n",
    "\n",
    "def gen_ncu_cmd(output_file_name,run_prog_cmd): \n",
    "    ncu_pre   = \"sudo /usr/local/NVIDIA-Nsight-Compute/ncu --export \"\n",
    "    outfile   = PROF+\"output_ncu_\"+output_file_name\n",
    "    ncu_param = \" --force-overwrite --target-processes application-only --replay-mode kernel --kernel-name-base function --launch-skip-before-match 0 --section ComputeWorkloadAnalysis --section InstructionStats --section LaunchStats --section MemoryWorkloadAnalysis --section MemoryWorkloadAnalysis_Tables --section SpeedOfLight --sampling-interval auto --sampling-max-passes 5 --sampling-buffer-size 33554432 --profile-from-start 1 --cache-control all --clock-control none --apply-rules yes  --import-source yes  --check-exit-code yes   \"\n",
    "    \n",
    "    gen_cmd =ncu_pre+outfile+ncu_param+run_prog_cmd\n",
    "    return gen_cmd\n",
    "\n",
    "def profile_cuda_bin(binary_dir):\n",
    "    with cd(binary_dir):\n",
    "        \n",
    "        bins = subprocess.check_output(['ls']).decode('utf-8').split('\\n')\n",
    "        \n",
    "        # run file will specify exact run command with input\n",
    "        if run_xxx in bins:\n",
    "            # cmds = read(run_xxx)\n",
    "            # for cmd in cmds:\n",
    "            #     1.get_raw_ptx_sass()\n",
    "            #     2.get_trace_ptx_sass()\n",
    "            #     change_sm_freq(f)\n",
    "            #     for i in range(10):\n",
    "            #         do_shell_command(xxx)\n",
    "            #         3.time_power_sampler()\n",
    "            #\n",
    "        else:\n",
    "            # for those don't need extra input data binarys\n",
    "            for exe in bins:\n",
    "                # profile each exe 10 times \n",
    "                for f in freq:\n",
    "                    change_sm_freq(f)\n",
    "                    for i in range(10):\n",
    "                        do_shell_command(str(exe)+\"_\"+str(f)+\"_\"+str(i),\"./\"+str(exe))\n",
    "            \n",
    "        \n"
   ]
  },
  {
   "cell_type": "markdown",
   "metadata": {},
   "source": [
    "## Setting DVFS\n",
    "\n",
    "RTX 3060 support SM frequency change"
   ]
  },
  {
   "cell_type": "code",
   "execution_count": null,
   "metadata": {},
   "outputs": [],
   "source": [
    "def change_sm_freq(f):\n",
    "    cmd = \"sudo nvidia-smi -lgc \"+str(f)\n",
    "    do_shell_command(cmd)"
   ]
  },
  {
   "cell_type": "markdown",
   "metadata": {},
   "source": [
    "## Make All Benchmarks\n",
    "\n",
    "`bench_dir` is the main directory of benchmark-suit like `Rodinia/`, `CUDASDK/` the function will do the following things according to the params:\n",
    "\n",
    "     1. cd bench_dir\n",
    "     2. modify source code if needed\n",
    "     3. make clean\n",
    "     4. cd sub_bench_dir\n",
    "     5. for bench in sub_bench_dir: \n",
    "        cd bench ; make\n",
    "    \n",
    "for example, the directory structure of CUDASDK is :\n",
    "\n",
    "         CUDASDK\n",
    "            |-----0_Simple\n",
    "            |            |--------aysncAPI/\n",
    "            |            |--------...\n",
    "            |-----1_Utilities\n",
    "                         |--------...\n",
    "    \n",
    "so `sub_bench_dir` is `0_Simple/` here , this can be read from the `bench_file` (hand-crafted)."
   ]
  },
  {
   "cell_type": "code",
   "execution_count": null,
   "metadata": {},
   "outputs": [],
   "source": [
    "\n",
    "def make_benchmarks(bench_file,bench_dir,bench_name):\n",
    "    print(bench_name+\" Start\")\n",
    "   \n",
    "    # how many programs are maked(or other jobs be done)\n",
    "    done_num = 0\n",
    "    # total job nums\n",
    "    tot_num =0\n",
    "    \n",
    "    dir_pair ={}\n",
    "    \n",
    "    # a file include all the bench-dir in a benchmark\n",
    "    sdk_file = bench_file\n",
    "    dirs = open(sdk_file,\"r\")\n",
    "    # read all the benchs located in \n",
    "    lines = dirs.readlines()\n",
    "    \n",
    "    main_dir = \"\"\n",
    "    \n",
    "    # for each bench \n",
    "    for line in lines:\n",
    "        line = line.strip('\\n')\n",
    "        line = line.replace(' ', '')\n",
    "        # sepecify main dir\n",
    "        #print(line)\n",
    "        \n",
    "        # the first line is an identification to which benchmarks are working on\n",
    "        # the format is '\\d'_xxxx\n",
    "        if(line[0].isdigit() and line[1]=='_'):\n",
    "               \n",
    "            # for Rodinia\n",
    "            if line == '0_cuda_rodinia':\n",
    "                # next step should be 'cd cuda'\n",
    "                line='cuda'\n",
    "            # for Polybench\n",
    "            elif line== '0_poly_CUDA':\n",
    "                #next step should be 'cd CUDA'\n",
    "                line='CUDA'\n",
    "            elif line=='0_gm_src':\n",
    "                # as mentioned before\n",
    "                line='gm_src'\n",
    "                \n",
    "            # the main_dir is the parent dir to all benchs\n",
    "            # main_dir\n",
    "            #    |----bench1/\n",
    "            #            |-----xxx.cu\n",
    "            #            |-----makefile\n",
    "            #    |----bench2/\n",
    "            # ......\n",
    "            main_dir=line    \n",
    "            dir_pair[main_dir]=[]\n",
    "        else:\n",
    "            # store the bench dirs\n",
    "            dir_pair[main_dir].append(line)  \n",
    "            tot_num = tot_num+1\n",
    "            \n",
    "    # do jobs to all benchmarks\n",
    "    with cd(bench_dir):\n",
    "        # use make clean from the toppest makefile \n",
    "        command= 'make clean'\n",
    "        print('\\n' + command)\n",
    "        subprocess.call(command, shell=True)\n",
    "        \n",
    "        # deep into each bench dir\n",
    "        for key in dir_pair:\n",
    "            print('<<enter>> {}'.format(key))\n",
    "            with cd('{}'.format(key)):\n",
    "                    for bench in dir_pair[key]:\n",
    "                        with cd('{}'.format(bench)):\n",
    "                            # 1.something todo with the source file\n",
    "                            modifySource()\n",
    "                            # 2.make the program\n",
    "                            do_shell_command('make')\n",
    "                            # how many are done\n",
    "                            done_num = done_num + 1\n",
    "                            print('['+str(done_num)+'/'+str(tot_num)+']')\n",
    "            print('<<leave>> {}'.format(key))\n",
    "    #============================================================\n",
    "    print(bench_name+\" Done\")"
   ]
  },
  {
   "cell_type": "markdown",
   "metadata": {},
   "source": [
    "## Start The Jobs"
   ]
  },
  {
   "cell_type": "code",
   "execution_count": 11,
   "metadata": {},
   "outputs": [
    {
     "data": {
      "text/plain": [
       "'sudo /usr/local/NVIDIA-Nsight-Compute/ncu --export output_ncu_2dconv --force-overwrite --target-processes application-only --replay-mode kernel --kernel-name-base function --launch-skip-before-match 0 --section ComputeWorkloadAnalysis --section InstructionStats --section LaunchStats --section MemoryWorkloadAnalysis --section MemoryWorkloadAnalysis_Tables --section SpeedOfLight --sampling-interval auto --sampling-max-passes 5 --sampling-buffer-size 33554432 --profile-from-start 1 --cache-control all --clock-control none --apply-rules yes  --import-source yes  --check-exit-code yes   ./2dconv'"
      ]
     },
     "execution_count": 11,
     "metadata": {},
     "output_type": "execute_result"
    }
   ],
   "source": [
    "#if __name__ == \"__main__\":\n",
    "\n",
    "# make_benchmarks(\"./Poly_bench.txt\"   ,\"Polybench/\"  ,\"Polybench\")\n",
    "\n",
    "gen_ncu_cmd(\"2dconv\",\"./2dconv\")\n"
   ]
  },
  {
   "cell_type": "code",
   "execution_count": null,
   "metadata": {},
   "outputs": [],
   "source": [
    "def compile_benchmarks():\n",
    "    make_benchmarks(\"./Polybench.txt\"   ,\"Polybench/\"  ,\"Polybench\")\n",
    "    "
   ]
  }
 ],
 "metadata": {
  "kernelspec": {
   "display_name": "Python 3",
   "language": "python",
   "name": "python3"
  },
  "language_info": {
   "codemirror_mode": {
    "name": "ipython",
    "version": 3
   },
   "file_extension": ".py",
   "mimetype": "text/x-python",
   "name": "python",
   "nbconvert_exporter": "python",
   "pygments_lexer": "ipython3",
   "version": "3.8.5"
  }
 },
 "nbformat": 4,
 "nbformat_minor": 5
}
